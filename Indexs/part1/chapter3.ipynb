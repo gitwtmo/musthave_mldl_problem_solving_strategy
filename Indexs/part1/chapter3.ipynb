{
 "cells": [
  {
   "cell_type": "markdown",
   "metadata": {},
   "source": [
    "## 목차\n",
    "1. [수치형 데이터 시각화](#수치형-데이터-시각화)  \n",
    "1.1. [히스토그램(histplot)](#히스토그램histplot)  \n",
    "1.2. [커널밀도추정 함수 그래프(kdeplot)](#커널밀도추정-함수-그래프kdeplot)  \n",
    "1.2. [분포도(displot)](#분포도displot)  \n",
    "1.2. [러그플롯(rugplot)](#러그플롯rugplot)  \n",
    "2. [범주형 데이터 시각화](#범주형-데이터-시각화)  \n",
    "2.1. [막대 그래프(barplot)](#막대-그래프barplot)  \n",
    "2.2. [포인트플롯(pointplot)](#포인트플롯pointplot)  \n",
    "2.3. [박스플롯(boxplot)](#박스플롯boxplot)  \n",
    "2.4. [바이올린플롯(violinplot)](#바이올린플롯violinplot)  \n",
    "2.5. [카운트플롯(countplot)](#카운트플롯countplot)  \n",
    "2.6. [파이크래프(pie)](#파이크래프pie)  \n",
    "3. [데이터 관계 시각화](#데이터-관계-시각화)  \n",
    "3.1. [히트맵(heatmap)](#히트맵heatmap)  \n",
    "3.2. [라인플롯(lineplot)](#라인플롯lineplot)  \n",
    "3.3. [산점도(scatterplot)](#산점도scatterplot)  \n",
    "3.4. [회귀선을 포함한 산점도 그래프(regplot)](#회귀선을-포함한-산점도-그래프regplot)  "
   ]
  },
  {
   "cell_type": "markdown",
   "metadata": {},
   "source": [
    "# 수치형 데이터 시각화"
   ]
  },
  {
   "cell_type": "markdown",
   "metadata": {},
   "source": [
    "## 히스토그램(histplot)"
   ]
  },
  {
   "cell_type": "code",
   "execution_count": null,
   "metadata": {},
   "outputs": [],
   "source": [
    "import seaborn as sns\n",
    "titanic = sns.load_dataset('titanic')\n",
    "\n",
    "sns.histplot(data=titanic, x='age')"
   ]
  },
  {
   "cell_type": "markdown",
   "metadata": {},
   "source": [
    "## 커널밀도추정 함수 그래프(kdeplot)"
   ]
  },
  {
   "cell_type": "code",
   "execution_count": null,
   "metadata": {},
   "outputs": [],
   "source": [
    "import seaborn as sns\n",
    "titanic = sns.load_dataset('titanic')\n",
    "\n",
    "sns.histplot(data=titanic, x='age')"
   ]
  },
  {
   "cell_type": "markdown",
   "metadata": {},
   "source": [
    "## 분포도(displot)"
   ]
  },
  {
   "cell_type": "code",
   "execution_count": null,
   "metadata": {},
   "outputs": [],
   "source": [
    "import seaborn as sns\n",
    "titanic = sns.load_dataset('titanic')\n",
    "\n",
    "sns.histplot(data=titanic, x='age')"
   ]
  },
  {
   "cell_type": "markdown",
   "metadata": {},
   "source": [
    "## 러그플롯(rugplot)"
   ]
  },
  {
   "cell_type": "code",
   "execution_count": null,
   "metadata": {},
   "outputs": [],
   "source": [
    "import seaborn as sns\n",
    "titanic = sns.load_dataset('titanic')\n",
    "\n",
    "sns.histplot(data=titanic, x='age')"
   ]
  },
  {
   "cell_type": "markdown",
   "metadata": {},
   "source": [
    "# 범주형 데이터 시각화"
   ]
  },
  {
   "cell_type": "markdown",
   "metadata": {},
   "source": [
    "## 막대 그래프(barplot)"
   ]
  },
  {
   "cell_type": "markdown",
   "metadata": {},
   "source": [
    "## 포인트플롯(pointplot)"
   ]
  },
  {
   "cell_type": "markdown",
   "metadata": {},
   "source": [
    "## 박스플롯(boxplot)"
   ]
  },
  {
   "cell_type": "markdown",
   "metadata": {},
   "source": [
    "## 바이올린플롯(violinplot)"
   ]
  },
  {
   "cell_type": "markdown",
   "metadata": {},
   "source": [
    "## 카운트플롯(countplot)"
   ]
  },
  {
   "cell_type": "markdown",
   "metadata": {},
   "source": [
    "## 파이크래프(pie)"
   ]
  },
  {
   "cell_type": "markdown",
   "metadata": {},
   "source": [
    "# 데이터 관계 시각화"
   ]
  },
  {
   "cell_type": "markdown",
   "metadata": {},
   "source": [
    "## 히트맵(heatmap)"
   ]
  },
  {
   "cell_type": "markdown",
   "metadata": {},
   "source": [
    "## 라인플롯(lineplot)"
   ]
  },
  {
   "cell_type": "markdown",
   "metadata": {},
   "source": [
    "## 산점도(scatterplot)"
   ]
  },
  {
   "cell_type": "markdown",
   "metadata": {},
   "source": [
    "## 회귀선을 포함한 산점도 그래프(regplot) "
   ]
  }
 ],
 "metadata": {
  "kernelspec": {
   "display_name": "Python 3.8.10 64-bit ('3.8.10')",
   "language": "python",
   "name": "python3"
  },
  "language_info": {
   "codemirror_mode": {
    "name": "ipython",
    "version": 3
   },
   "file_extension": ".py",
   "mimetype": "text/x-python",
   "name": "python",
   "nbconvert_exporter": "python",
   "pygments_lexer": "ipython3",
   "version": "3.8.10"
  },
  "orig_nbformat": 4,
  "vscode": {
   "interpreter": {
    "hash": "9b363c58d1093e891c4eaaf9273db69d0f7db3f9909d89c6197aa3afcc07f476"
   }
  }
 },
 "nbformat": 4,
 "nbformat_minor": 2
}
