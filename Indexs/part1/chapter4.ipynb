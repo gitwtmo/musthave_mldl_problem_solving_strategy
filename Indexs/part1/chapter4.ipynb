{
 "cells": [
  {
   "cell_type": "markdown",
   "metadata": {},
   "source": [
    "## 목차\n",
    "1. [수치형 데이터 시각화](#수치형-데이터-시각화)  \n",
    "    1.1. [히스토그램(histplot)](#히스토그램histplot)  \n",
    "    1.2. [커널밀도추정 함수 그래프(kdeplot)](#커널밀도추정-함수-그래프kdeplot)  \n",
    "    1.3. [분포도(displot)](#분포도displot)  \n",
    "    1.4. [러그플롯(rugplot)](#러그플롯rugplot)  \n",
    "2. [범주형 데이터 시각화](#범주형-데이터-시각화)  \n",
    "    2.1. [막대 그래프(barplot)](#막대-그래프barplot)  \n",
    "    2.2. [포인트플롯(pointplot)](#포인트플롯pointplot)  \n",
    "    2.3. [박스플롯(boxplot)](#박스플롯boxplot)  \n",
    "    2.4. [바이올린플롯(violinplot)](#바이올린플롯violinplot)  \n",
    "    2.5. [카운트플롯(countplot)](#카운트플롯countplot)  \n",
    "    2.6. [파이크래프(pie)](#파이크래프pie)  \n",
    "3. [데이터 관계 시각화](#데이터-관계-시각화)  \n",
    "    3.1. [히트맵(heatmap)](#히트맵heatmap)  \n",
    "    3.2. [라인플롯(lineplot)](#라인플롯lineplot)  \n",
    "    3.3. [산점도(scatterplot)](#산점도scatterplot)  \n",
    "    3.4. [회귀선을 포함한 산점도 그래프(regplot)](#회귀선을-포함한-산점도-그래프regplot)  \n",
    "    3.5. [회귀선을 포함한 산점도 그래프(lmplot)](#회귀선을-포함한-산점도-그래프lmplot)  "
   ]
  },
  {
   "cell_type": "markdown",
   "metadata": {},
   "source": [
    "<a name=\"수치형-데이터-시각화\"></a>\n",
    "# 수치형 데이터 시각화"
   ]
  },
  {
   "cell_type": "markdown",
   "metadata": {},
   "source": [
    "<a name=\"히스토그램histplot\"></a>\n",
    "## 히스토그램(histplot)\n",
    "\n",
    "* x : 파악하려는 feature\n",
    "* bins : 나타내려는 x의 구간 갯수 [default : '10']\n",
    "* hue : 비교해보려는 범주형 feature\n",
    "* multiple : hue의 겹침을 나타내는 유형 [default : 'layer', 'dodge', 'stack', 'fill']\n",
    "* element : bins를 나타내는 유형 [default : 'bars', 'step', 'poly']\n",
    "* kde : kde 그래프를 같이 표현 [default : False, True]\n",
    "* stat : 그래프에서 나타낼 y축 [default : 'count', 'frequency', 'probability', 'percent', 'density']\n",
    "* y(*) : 파악하려는 feature 밀도에 따라 색의 체도를 달리 표현\n",
    "* discrete(*) : 파악하려는 feature를 unique하게 표시(bins무시) [default : False, True]\n",
    "* cbar : 밀도 표현이 있을때 밀도표 제공 [default : False, True]"
   ]
  },
  {
   "cell_type": "code",
   "execution_count": null,
   "metadata": {},
   "outputs": [],
   "source": [
    "import seaborn as sns\n",
    "titanic = sns.load_dataset('titanic')\n",
    "\n",
    "sns.histplot(data=titanic, x='age', bins=10, hue='alive', multiple='stack')"
   ]
  },
  {
   "cell_type": "markdown",
   "metadata": {},
   "source": [
    "<a name=\"커널밀도추정-함수-그래프kdeplot\"></a>\n",
    "## 커널밀도추정 함수 그래프(kdeplot)\n",
    "\n",
    "* x : 파악하려는 feature\n",
    "* hue : 비교해보려는 범주형 feature\n",
    "* multiple : hue의 겹침을 나타내는 유형 [default : 'layer', 'stack', 'fill']\n",
    "* fill : 색채우기 [default : False, True]\n",
    "* gridsize : 그래프의 꼭짓점 수 [default : 200]\n",
    "* cut : 표현하려는 범위를 설정(방식 이해X) [default : 30]\n",
    "* y(*) : 파악하려는 feature\n",
    "* levels(*) : y가 있을때 밀도를 표현하는 scale [default : 10]\n",
    "* thresh(*) : levels가 있을때 표현하는 최소치 [default : 0.05]\n",
    "* cbar : 밀도 표현이 있을때 밀도표 제공 [default : False, True]"
   ]
  },
  {
   "cell_type": "code",
   "execution_count": null,
   "metadata": {},
   "outputs": [],
   "source": [
    "import seaborn as sns\n",
    "titanic = sns.load_dataset('titanic')\n",
    "\n",
    "sns.kdeplot(data=titanic, x='age')"
   ]
  },
  {
   "cell_type": "markdown",
   "metadata": {},
   "source": [
    "<a name=\"분포도displot\"></a>\n",
    "## 분포도(displot)\n",
    "\n",
    "* x : 파악하려는 feature\n",
    "* hue : 비교해보려는 범주형 feature\n",
    "* kind : 나타내려는 그래프 형태 [default : 'hist', 'kde', 'ecdf']\n",
    "* kde : kde 그래프를 같이 표현 [default : False, True]\n",
    "* height : 그래프의 상하 크기 [default : 5]\n",
    "* aspect : 그래프의 좌우 크기 [default : 1]\n",
    "* kde : kde 그래프를 같이 표현 [default : False, True]\n",
    "* y(*) : 파악하려는 feature"
   ]
  },
  {
   "cell_type": "code",
   "execution_count": null,
   "metadata": {},
   "outputs": [],
   "source": [
    "import seaborn as sns\n",
    "titanic = sns.load_dataset('titanic')\n",
    "\n",
    "sns.displot(data=titanic, x='age')"
   ]
  },
  {
   "cell_type": "markdown",
   "metadata": {},
   "source": [
    "<a name=\"러그플롯rugplot\"></a>\n",
    "## 러그플롯(rugplot)\n",
    "\n",
    "* x : 파악하려는 feature\n",
    "* hue : 비교해보려는 범주형 feature\n",
    "* height : 그래프 높이 [default : 0.025]\n",
    "* legend : legend 표기 [default : True, False]\n",
    "* y(*) : 파악하려는 feature"
   ]
  },
  {
   "cell_type": "code",
   "execution_count": null,
   "metadata": {},
   "outputs": [],
   "source": [
    "import seaborn as sns\n",
    "titanic = sns.load_dataset('titanic')\n",
    "\n",
    "sns.rugplot(data=titanic, x='age')"
   ]
  },
  {
   "cell_type": "markdown",
   "metadata": {},
   "source": [
    "<a name=\"범주형-데이터-시각화\"></a>\n",
    "# 범주형 데이터 시각화"
   ]
  },
  {
   "cell_type": "markdown",
   "metadata": {},
   "source": [
    "<a name=\"막대-그래프barplot\"></a>\n",
    "## 막대 그래프(barplot)\n",
    "\n",
    "* x : 파악하려는 범주형 feature\n",
    "* y : 파악하려는 수치형 feature\n",
    "* hue : 비교해보려는 범주형 feature\n",
    "* estimator : y의 feature를 나타내려는 방식(functional) [default : 'mean', len, np.median, ...]\n",
    "* errorbar : ('ci', 95)\n",
    "    * ('ci', 95) : Confidence interval\n",
    "    * ('pi', 95) : Percentile interval(*잘 이해안감)\n",
    "    * ('se', 1) : Standard error\n",
    "    * ('sd', 1) : Standard deviation\n",
    "* width : [default : 0.8]\n",
    "* errcolor : 에러바 색상 [default : '.26']\n",
    "* errwidth : 에러바 너비 [default : None, <num>]\n",
    "* dodge : hue 표기시 겹치기 비허용 [default : True, False]"
   ]
  },
  {
   "cell_type": "code",
   "execution_count": null,
   "metadata": {},
   "outputs": [],
   "source": [
    "import seaborn as sns\n",
    "titanic = sns.load_dataset('titanic')\n",
    "\n",
    "sns.barplot(data=titanic, x='class', y='fare')"
   ]
  },
  {
   "cell_type": "markdown",
   "metadata": {},
   "source": [
    "<a name=\"포인트플롯pointplot\"></a>\n",
    "## 포인트플롯(pointplot)\n",
    "\n",
    "* x : 파악하려는 범주형 feature\n",
    "* y : 파악하려는 수치형 feature\n",
    "* hue : 비교해보려는 범주형 feature\n",
    "* estimator : y의 feature를 나타내려는 방식(functional) [default : 'mean', len, np.median, ...]\n",
    "* errorbar : ('ci', 95)\n",
    "    * ('ci', 95) : Confidence interval\n",
    "    * ('pi', 95) : Percentile interval(*잘 이해안감)\n",
    "    * ('se', 1) : Standard error\n",
    "    * ('sd', 1) : Standard deviation\n",
    "* width : [default : 0.8]\n",
    "* errwidth : 에러바 너비 [default : None, <num>]\n",
    "* markers : [default : 'o', ]\n",
    "* linestyles : [default : '-', ]\n",
    "* dodge : hue 표기시 겹치기 비허용 [default : False, True]"
   ]
  },
  {
   "cell_type": "code",
   "execution_count": null,
   "metadata": {},
   "outputs": [],
   "source": [
    "import seaborn as sns\n",
    "titanic = sns.load_dataset('titanic')\n",
    "\n",
    "sns.pointplot(data=titanic, x='class', y='fare')"
   ]
  },
  {
   "cell_type": "markdown",
   "metadata": {},
   "source": [
    "<a name=\"박스플롯boxplot\"></a>\n",
    "## 박스플롯(boxplot)\n",
    "\n",
    "* x : 파악하려는 범주형 feature\n",
    "* y : 파악하려는 수치형 feature\n",
    "* hue : 비교해보려는 범주형 feature"
   ]
  },
  {
   "cell_type": "code",
   "execution_count": null,
   "metadata": {},
   "outputs": [],
   "source": [
    "import seaborn as sns\n",
    "titanic = sns.load_dataset('titanic')\n",
    "\n",
    "sns.boxplot(data=titanic, x='class', y='fare')"
   ]
  },
  {
   "cell_type": "markdown",
   "metadata": {},
   "source": [
    "<a name=\"바이올린플롯violinplot\"></a>\n",
    "## 바이올린플롯(violinplot)\n",
    "\n",
    "* x : 파악하려는 범주형 feature\n",
    "* y : 파악하려는 수치형 feature\n",
    "* hue : 비교해보려는 범주형 feature\n",
    "* bw : 커널 대역폭 배율 [default : 'scott', 'silverman', float]\n",
    "* cut : 높이 조절 [default : 2]\n",
    "* scale : 폭 조절 [default : 'area', 'count', 'width']\n",
    "* inner : 내부 표현법  [default : 'box', 'quartile', 'point', 'stick', None]\n",
    "* split : hue가 2개로 나뉠때 반반 표현법 [default : False, True]"
   ]
  },
  {
   "cell_type": "code",
   "execution_count": null,
   "metadata": {},
   "outputs": [],
   "source": [
    "import seaborn as sns\n",
    "titanic = sns.load_dataset('titanic')\n",
    "\n",
    "sns.violinplot(data=titanic, x='class', y='fare')"
   ]
  },
  {
   "cell_type": "markdown",
   "metadata": {},
   "source": [
    "<a name=\"카운트플롯countplot\"></a>\n",
    "## 카운트플롯(countplot)\n",
    "\n",
    "* x : 파악하려는 범주형 feature\n",
    "* y : 파악하려는 수치형 feature\n",
    "* hue : 비교해보려는 범주형 feature\n",
    "* dodge : hue 표기시 겹치기 비허용 [default : True, False]"
   ]
  },
  {
   "cell_type": "code",
   "execution_count": null,
   "metadata": {},
   "outputs": [],
   "source": [
    "import seaborn as sns\n",
    "titanic = sns.load_dataset('titanic')\n",
    "\n",
    "sns.countplot(data=titanic, x='class')"
   ]
  },
  {
   "cell_type": "markdown",
   "metadata": {},
   "source": [
    "<a name=\"파이크래프pie\"></a>\n",
    "## 파이크래프(pie)\n",
    "\n",
    "* x : 리스트형 비율 \n",
    "* labels : 리스트형 이름\n",
    "* autopct : 비율 표기법 [default : '%.1f%%']\n",
    "* pctdistance : 중심서부터 비율 표기 위치 [default : 0.6]\n",
    "* labeldistance : 중심서부터 이름 표기 위치 [default : 1.1]\n",
    "* startangle : 시작 각도 [default : 0]\n",
    "* radius : 원의 크기 [default : 1]"
   ]
  },
  {
   "cell_type": "code",
   "execution_count": null,
   "metadata": {},
   "outputs": [],
   "source": [
    "import matplotlib.pyplot as plt\n",
    "x=[10,20,70]\n",
    "labels=[\"A\",\"B\",\"C\"]\n",
    "plt.pie(x=x, labels=labels, autopct='%.1f%%')"
   ]
  },
  {
   "cell_type": "markdown",
   "metadata": {},
   "source": [
    "<a name=\"데이터-관계-시각화\"></a>\n",
    "# 데이터 관계 시각화"
   ]
  },
  {
   "cell_type": "markdown",
   "metadata": {},
   "source": [
    "<a name=\"히트맵heatmap\"></a>\n",
    "## 히트맵(heatmap)\n",
    "\n",
    "* data : value가 수치형인 DataFrame\n",
    "* vmin : 컬러맵의 최소치 [default : None, float]\n",
    "* vmax : 컬러맵의 최대치 [default : None, float]\n",
    "* cmap : 컬러맵 색상 [default : None, string]\n",
    "* annot : 어노테이션 표기 [default : None, True]\n",
    "* fmt : 어노테이션 표기법 [default : '.2g']\n",
    "* cbar : 컬러맵 표기 [default : True, False]"
   ]
  },
  {
   "cell_type": "code",
   "execution_count": null,
   "metadata": {},
   "outputs": [],
   "source": [
    "import seaborn as sns\n",
    "flights = sns.load_dataset('flights')\n",
    "\n",
    "pivot=flights.pivot(index='month', columns='year', values='passengers')\n",
    "sns.heatmap(data=pivot)"
   ]
  },
  {
   "cell_type": "markdown",
   "metadata": {},
   "source": [
    "<a name=\"라인플롯lineplot\"></a>\n",
    "## 라인플롯(lineplot)\n",
    "\n",
    "* x : 파악하려는 수치형 feature\n",
    "* y : 파악하려는 수치형 feature\n",
    "* hue : 비교해보려는 범주형 feature\n",
    "* estimator : y의 feature를 나타내려는 방식(functional) [default : 'mean', len, np.median, ...]\n",
    "* errorbar : ('ci', 95)\n",
    "    * ('ci', 95) : Confidence interval\n",
    "    * ('pi', 95) : Percentile interval(*잘 이해안감)\n",
    "    * ('se', 1) : Standard error\n",
    "    * ('sd', 1) : Standard deviation"
   ]
  },
  {
   "cell_type": "code",
   "execution_count": null,
   "metadata": {},
   "outputs": [],
   "source": [
    "import seaborn as sns\n",
    "flights = sns.load_dataset('flights')\n",
    "\n",
    "sns.lineplot(data=flights, x='year', y='passengers')"
   ]
  },
  {
   "cell_type": "markdown",
   "metadata": {},
   "source": [
    "<a name=\"산점도scatterplot\"></a>\n",
    "## 산점도(scatterplot)\n",
    "\n",
    "* x : 파악하려는 수치형 feature\n",
    "* y : 파악하려는 수치형 feature\n",
    "* hue : 비교해보려는 범주형 feature"
   ]
  },
  {
   "cell_type": "code",
   "execution_count": null,
   "metadata": {},
   "outputs": [],
   "source": [
    "import seaborn as sns\n",
    "tips = sns.load_dataset('tips')\n",
    "\n",
    "sns.scatterplot(data=tips, x='total_bill', y='tip')"
   ]
  },
  {
   "cell_type": "markdown",
   "metadata": {},
   "source": [
    "<a name=\"회귀선을-포함한-산점도-그래프regplot\"></a>\n",
    "## 회귀선을 포함한 산점도 그래프(regplot) \n",
    "\n",
    "* data : 전체적인 데이터\n",
    "* x : 파악하려는 수치형 feature\n",
    "* y : 파악하려는 수치형 feature\n",
    "* scatter : 산점도 표기 [default : True, False]\n",
    "* fit_reg : 회귀선 표기 [default : True, False]\n",
    "* ci : ci 확률 [default : 95]\n",
    "* logx : 회귀선 log함수화 [default : False, True]\n",
    "* dropna : 산점도 표기를 위한 자동 dropna [default : True, False]\n",
    "* marker : 마커형태 [default : 'o', ]"
   ]
  },
  {
   "cell_type": "code",
   "execution_count": null,
   "metadata": {},
   "outputs": [],
   "source": [
    "import seaborn as sns\n",
    "tips = sns.load_dataset('tips')\n",
    "\n",
    "sns.regplot(data=tips, x='total_bill', y='tip')"
   ]
  },
  {
   "cell_type": "markdown",
   "metadata": {},
   "source": [
    "<a name=\"회귀선을-포함한-산점도-그래프lmplot\"></a>\n",
    "## 회귀선을 포함한 산점도 그래프(lmplot) \n",
    "\n",
    "* data : 전체적인 데이터\n",
    "* x : 파악하려는 수치형 feature\n",
    "* y : 파악하려는 수치형 feature\n",
    "* col : 파악하려는 범주형 feature 가로나열 [default : None]\n",
    "* row : 파악하려는 범주형 feature 세로나열 [default : None]\n",
    "* height : 그래프 세로 스케일 [default : 5]\n",
    "* aspect : 그래프 가로 스케일 [default : 1]\n",
    "* scatter : 산점도 표기 [default : True, False]\n",
    "* fit_reg : 회귀선 표기 [default : True, False]\n",
    "* ci : ci 확률 [default : 95]\n",
    "* logx : 회귀선 log함수화 [default : False, True]\n",
    "* marker : 마커형태 [default : 'o', ]"
   ]
  },
  {
   "cell_type": "code",
   "execution_count": null,
   "metadata": {},
   "outputs": [],
   "source": [
    "import seaborn as sns\n",
    "tips = sns.load_dataset('tips')\n",
    "\n",
    "sns.lmplot(data=tips, x='total_bill', y='tip')"
   ]
  }
 ],
 "metadata": {
  "kernelspec": {
   "display_name": "Python 3.8.10 64-bit ('3.8.10')",
   "language": "python",
   "name": "python3"
  },
  "language_info": {
   "codemirror_mode": {
    "name": "ipython",
    "version": 3
   },
   "file_extension": ".py",
   "mimetype": "text/x-python",
   "name": "python",
   "nbconvert_exporter": "python",
   "pygments_lexer": "ipython3",
   "version": "3.8.10"
  },
  "orig_nbformat": 4,
  "vscode": {
   "interpreter": {
    "hash": "9b363c58d1093e891c4eaaf9273db69d0f7db3f9909d89c6197aa3afcc07f476"
   }
  }
 },
 "nbformat": 4,
 "nbformat_minor": 2
}
