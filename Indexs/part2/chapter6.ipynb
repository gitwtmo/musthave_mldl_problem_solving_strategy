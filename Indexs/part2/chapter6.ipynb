{
 "cells": [
  {
   "cell_type": "markdown",
   "metadata": {},
   "source": [
    "## 목차\n",
    "1. [경진대회 이해](#경진대회-이해)    \n",
    "2. [경진대회 접속 방법 및 세부 메뉴](#경진대회-접속-방법-및-세부-메뉴)  \n",
    "    2.1. [경진대회 접속 방법](#경진대회-접속-방법)  \n",
    "    2.2. [경진대회 메뉴 설명](#경진대회-메뉴-설명)  \n",
    "3. [탐색적 데이터 분석](#탐색적-데이터-분석)  \n",
    "    3.1. [캐글 노트북 환경 설정](#캐글-노트북-환경-설정)  \n",
    "    3.2. [데이터 둘러보기](#데이터-둘러보기)  \n",
    "    3.3. [더 효과적인 분석을 위한 피쳐 엔지니어링](#더-효과적인-분석을-위한-피쳐-엔지니어링)  \n",
    "    3.4. [데이터 시각화](#데이터-시각화)  \n",
    "4. [베이스라인 모델](#베이스라인-모델)  \n",
    "    4.1. [피쳐 엔지니어링](#피쳐-엔지니어링)  \n",
    "    4.2. [평가지표 계산 함수 작성](#평가지표-계산-함수-작성)  \n",
    "    4.3. [모델 훈련](#모델-훈련)  \n",
    "    4.4. [모델 성능 검증](#모델-성능-검증)  \n",
    "    4.5. [예측 및 결과 제출](#예측-및-결과-제출)  \n",
    "5. [성능 개선1:릿지 회귀 모델](#성능-개선1:릿지-회귀-모델)  \n",
    "    5.1. [하이퍼파라미터 최적화(모델 훈련)](#하이퍼파라미터-최적화모델-훈련)  \n",
    "    5.2. [성능 검증](#성능-검증)  \n",
    "6. [성능 개선2:라쏘 회귀 모델](#성능-개선2:라쏘-회귀-모델)  \n",
    "7. [성능 개선3:랜덤 포레스트 회귀 모델](#성능-개선3:랜덤-포레스트-회귀-모델)  \n",
    "    7.1. [하이퍼파라미터 최적화(모델 훈련)](#하이퍼파라미터-최적화모델-훈련)  \n",
    "    7.2. [모델 성능 검증](#모델-성능-검증)  \n",
    "    7.3. [예측 및 결과 제출](#예측-및-결과-제출)  \n",
    "8. [학습 마무리](#학습-마무리)  \n",
    "    8.1. [핵심 요약](#핵심-요약)"
   ]
  },
  {
   "cell_type": "markdown",
   "metadata": {},
   "source": [
    "<a name=\"경진대회-이해\"></a>\n",
    "# 경진대회 이해"
   ]
  },
  {
   "cell_type": "markdown",
   "metadata": {},
   "source": [
    "<a name=\"경진대회-접속-방법-및-세부-메뉴\"></a>\n",
    "# 경진대회 접속 방법 및 세부 메뉴"
   ]
  },
  {
   "cell_type": "markdown",
   "metadata": {},
   "source": [
    "<a name=\"경진대회-접속-방법\"></a>\n",
    "## 경진대회 접속 방법"
   ]
  },
  {
   "cell_type": "markdown",
   "metadata": {},
   "source": [
    "<a name=\"경진대회-메뉴-설명\"></a>\n",
    "## 경진대회 메뉴 설명"
   ]
  },
  {
   "cell_type": "markdown",
   "metadata": {},
   "source": [
    "<a name=\"탐색적-데이터-분석\"></a>\n",
    "# 탐색적 데이터 분석"
   ]
  },
  {
   "cell_type": "markdown",
   "metadata": {},
   "source": [
    "<a name=\"캐글-노트북-환경-설정\"></a>\n",
    "## 캐글 노트북 환경 설정"
   ]
  },
  {
   "cell_type": "markdown",
   "metadata": {},
   "source": [
    "<a name=\"데이터-둘러보기\"></a>\n",
    "## 데이터 둘러보기"
   ]
  },
  {
   "cell_type": "markdown",
   "metadata": {},
   "source": [
    "<a name=\"더-효과적인-분석을-위한-피쳐-엔지니어링\"></a>\n",
    "## 더 효과적인 분석을 위한 피쳐 엔지니어링"
   ]
  },
  {
   "cell_type": "markdown",
   "metadata": {},
   "source": [
    "<a name=\"데이터-시각화\"></a>\n",
    "## 데이터 시각화"
   ]
  },
  {
   "cell_type": "markdown",
   "metadata": {},
   "source": [
    "<a name=\"베이스라인-모델\"></a>\n",
    "# 베이스라인 모델"
   ]
  },
  {
   "cell_type": "markdown",
   "metadata": {},
   "source": [
    "<a name=\"피쳐-엔지니어링\"></a>\n",
    "## 피쳐 엔지니어링"
   ]
  },
  {
   "cell_type": "markdown",
   "metadata": {},
   "source": [
    "<a name=\"평가지표-계산-함수-작성\"></a>\n",
    "## 평가지표 계산 함수 작성"
   ]
  },
  {
   "cell_type": "markdown",
   "metadata": {},
   "source": [
    "<a name=\"모델-훈련\"></a>\n",
    "## 모델 훈련"
   ]
  },
  {
   "cell_type": "markdown",
   "metadata": {},
   "source": [
    "<a name=\"모델-성능-검증\"></a>\n",
    "## 모델 성능 검증"
   ]
  },
  {
   "cell_type": "markdown",
   "metadata": {},
   "source": [
    "<a name=\"예측-및-결과-제출\"></a>\n",
    "## 예측 및 결과 제출"
   ]
  },
  {
   "cell_type": "markdown",
   "metadata": {},
   "source": [
    "<a name=\"성능-개선1:릿지-회귀-모델\"></a>\n",
    "# 성능 개선1:릿지 회귀 모델"
   ]
  },
  {
   "cell_type": "markdown",
   "metadata": {},
   "source": [
    "<a name=\"하이퍼파라미터-최적화모델-훈련\"></a>\n",
    "## 하이퍼파라미터 최적화(모델 훈련)"
   ]
  },
  {
   "cell_type": "markdown",
   "metadata": {},
   "source": [
    "<a name=\"성능-검증\"></a>\n",
    "## 성능 검증"
   ]
  },
  {
   "cell_type": "markdown",
   "metadata": {},
   "source": [
    "<a name=\"성능-개선2:라쏘-회귀-모델\"></a>\n",
    "# 성능 개선2:라쏘 회귀 모델"
   ]
  },
  {
   "cell_type": "markdown",
   "metadata": {},
   "source": [
    "<a name=\"성능-개선3:랜덤-포레스트-회귀-모델\"></a>\n",
    "# 성능 개선3:랜덤 포레스트 회귀 모델"
   ]
  },
  {
   "cell_type": "markdown",
   "metadata": {},
   "source": [
    "<a name=\"하이퍼파라미터-최적화모델-훈련\"></a>\n",
    "## 하이퍼파라미터 최적화(모델 훈련)"
   ]
  },
  {
   "cell_type": "markdown",
   "metadata": {},
   "source": [
    "<a name=\"모델-성능-검증\"></a>\n",
    "## 모델 성능 검증"
   ]
  },
  {
   "cell_type": "markdown",
   "metadata": {},
   "source": [
    "<a name=\"예측-및-결과-제출\"></a>\n",
    "## 예측 및 결과 제출"
   ]
  },
  {
   "cell_type": "markdown",
   "metadata": {},
   "source": [
    "<a name=\"학습-마무리\"></a>\n",
    "# 학습 마무리"
   ]
  },
  {
   "cell_type": "markdown",
   "metadata": {},
   "source": [
    "<a name=\"핵심-요약\"></a>\n",
    "## 핵심 요약"
   ]
  }
 ],
 "metadata": {
  "kernelspec": {
   "display_name": "Python 3.8.10 64-bit ('3.8.10')",
   "language": "python",
   "name": "python3"
  },
  "language_info": {
   "codemirror_mode": {
    "name": "ipython",
    "version": 3
   },
   "file_extension": ".py",
   "mimetype": "text/x-python",
   "name": "python",
   "nbconvert_exporter": "python",
   "pygments_lexer": "ipython3",
   "version": "3.8.10"
  },
  "orig_nbformat": 4,
  "vscode": {
   "interpreter": {
    "hash": "9b363c58d1093e891c4eaaf9273db69d0f7db3f9909d89c6197aa3afcc07f476"
   }
  }
 },
 "nbformat": 4,
 "nbformat_minor": 2
}
